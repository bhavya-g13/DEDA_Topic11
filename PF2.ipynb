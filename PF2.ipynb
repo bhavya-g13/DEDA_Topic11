{
 "cells": [
  {
   "cell_type": "code",
   "execution_count": 14,
   "id": "d575319d",
   "metadata": {},
   "outputs": [
    {
     "name": "stdout",
     "output_type": "stream",
     "text": [
      "[*********************100%***********************]  17 of 17 completed\n"
     ]
    }
   ],
   "source": [
    "# Define the ticker list\n",
    "import pandas as pd\n",
    "tickers_list = ['AAPL', 'WMT', 'MU', 'BA','GOOG','BABA','GE','AMD','BAC','GM','T','UAA','XOM','RRC','PFE','JPM','SBUX']\n",
    "\n",
    "# Fetch the data\n",
    "import yfinance as yf\n",
    "data = yf.download(tickers_list,'2022-6-1')['Adj Close']\n",
    "#print(data.iloc[-1])\n",
    "# Print first 5 rows of the data\n",
    "#print(data.head())\n",
    "#print(data.tail())"
   ]
  },
  {
   "cell_type": "code",
   "execution_count": 32,
   "id": "c7fbf7fc",
   "metadata": {},
   "outputs": [
    {
     "name": "stdout",
     "output_type": "stream",
     "text": [
      "OrderedDict([('AAPL', 0.01911), ('AMD', 0.0), ('BA', 0.15635), ('BABA', 0.0), ('BAC', 0.0), ('GE', 0.2), ('GM', 0.0), ('GOOG', 0.0), ('JPM', 0.0), ('MU', 0.0), ('PFE', 0.08496), ('RRC', 0.0), ('SBUX', 0.2), ('T', 0.02884), ('UAA', 0.0), ('WMT', 0.2), ('XOM', 0.11073)])\n"
     ]
    }
   ],
   "source": [
    "import pandas as pd\n",
    "from pypfopt.expected_returns import mean_historical_return\n",
    "from pypfopt.efficient_frontier import EfficientFrontier\n",
    "from pypfopt import risk_models\n",
    "from pypfopt import discrete_allocation\n",
    "from pypfopt import expected_returns\n",
    "from pypfopt import risk_models\n",
    "from pypfopt import EfficientFrontier\n",
    "from pypfopt import objective_functions\n",
    "from pypfopt import base_optimizer\n",
    "from pypfopt.discrete_allocation import DiscreteAllocation\n",
    "from pypfopt.hierarchical_portfolio import HRPOpt\n",
    "\n",
    "\n",
    "# Prepare historical price data for assets\n",
    "#historical_prices = pd.read_csv('historical_prices.csv', index_col=0, parse_dates=True)\n",
    "historical_prices = data\n",
    "target_volatility = 0.2\n",
    "\n",
    "\n",
    "# Calculate expected returns\n",
    "returns = expected_returns.mean_historical_return(historical_prices)\n",
    "cov_matrix = risk_models.sample_cov(historical_prices)\n",
    "\n",
    "# Create an instance of EfficientFrontier\n",
    "ef = EfficientFrontier(returns, cov_matrix,weight_bounds = (0,0.2))\n",
    "\n",
    "ef.efficient_risk(target_volatility)\n",
    "\n",
    "# Optimize for maximum Sharpe ratio\n",
    "#weights = ef.max_sharpe()\n",
    "\n",
    "#  print weights\n",
    "cleaned_weights = ef.clean_weights()\n",
    "print(cleaned_weights)"
   ]
  },
  {
   "cell_type": "code",
   "execution_count": 33,
   "id": "2701608c",
   "metadata": {},
   "outputs": [
    {
     "name": "stdout",
     "output_type": "stream",
     "text": [
      "Expected annual return: 35.2%\n",
      "Annual volatility: 20.0%\n",
      "Sharpe Ratio: 1.66\n"
     ]
    },
    {
     "data": {
      "text/plain": [
       "(0.352157157496359, 0.20000000026442738, 1.6607857852860088)"
      ]
     },
     "execution_count": 33,
     "metadata": {},
     "output_type": "execute_result"
    }
   ],
   "source": [
    "#to know the expected performance of the portfolio with optimal weights w\n",
    "ef.portfolio_performance(verbose=True)"
   ]
  },
  {
   "cell_type": "code",
   "execution_count": 38,
   "id": "471f5108",
   "metadata": {},
   "outputs": [],
   "source": [
    "# Calculate the discrete allocation of assets based on the optimal weights\n",
    "latest_prices = historical_prices.iloc[-1]  # Latest prices for the assets\n",
    "da = DiscreteAllocation(cleaned_weights, latest_prices, total_portfolio_value=10000)\n",
    "allocation, leftover = da.lp_portfolio()"
   ]
  },
  {
   "cell_type": "code",
   "execution_count": 39,
   "id": "6a5a202f",
   "metadata": {},
   "outputs": [
    {
     "name": "stdout",
     "output_type": "stream",
     "text": [
      "Optimal Allocation: {'AAPL': 1, 'BA': 7, 'GE': 19, 'PFE': 22, 'SBUX': 20, 'T': 18, 'WMT': 13, 'XOM': 10}\n"
     ]
    }
   ],
   "source": [
    "print(\"Optimal Allocation:\", allocation)"
   ]
  },
  {
   "cell_type": "markdown",
   "id": "b1ec4e40",
   "metadata": {},
   "source": []
  },
  {
   "cell_type": "code",
   "execution_count": null,
   "id": "f134b6a2",
   "metadata": {},
   "outputs": [],
   "source": []
  }
 ],
 "metadata": {
  "kernelspec": {
   "display_name": "Python 3 (ipykernel)",
   "language": "python",
   "name": "python3"
  },
  "language_info": {
   "codemirror_mode": {
    "name": "ipython",
    "version": 3
   },
   "file_extension": ".py",
   "mimetype": "text/x-python",
   "name": "python",
   "nbconvert_exporter": "python",
   "pygments_lexer": "ipython3",
   "version": "3.9.13"
  }
 },
 "nbformat": 4,
 "nbformat_minor": 5
}
