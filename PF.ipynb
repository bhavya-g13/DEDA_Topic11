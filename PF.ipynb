{
  "cells": [
    {
      "cell_type": "markdown",
      "metadata": {
        "id": "view-in-github",
        "colab_type": "text"
      },
      "source": [
        "<a href=\"https://colab.research.google.com/github/bhavya-g13/DEDA_Topic11/blob/rebalancing_monthly/PF.ipynb\" target=\"_parent\"><img src=\"https://colab.research.google.com/assets/colab-badge.svg\" alt=\"Open In Colab\"/></a>"
      ]
    },
    {
      "cell_type": "markdown",
      "id": "98417e16",
      "metadata": {
        "id": "98417e16"
      },
      "source": [
        "## Importing Libraries"
      ]
    },
    {
      "cell_type": "code",
      "execution_count": null,
      "id": "c0c2247d",
      "metadata": {
        "id": "c0c2247d",
        "outputId": "68d8d27f-d4b0-4ea4-a508-49a75664ce82"
      },
      "outputs": [
        {
          "name": "stderr",
          "output_type": "stream",
          "text": [
            "C:\\Users\\ruchd\\anaconda3\\lib\\site-packages\\numpy\\_distributor_init.py:30: UserWarning: loaded more than 1 DLL from .libs:\n",
            "C:\\Users\\ruchd\\anaconda3\\lib\\site-packages\\numpy\\.libs\\libopenblas.FB5AE2TYXYH2IJRDKGDGQ3XBKLKTF43H.gfortran-win_amd64.dll\n",
            "C:\\Users\\ruchd\\anaconda3\\lib\\site-packages\\numpy\\.libs\\libopenblas64__v0.3.21-gcc_10_3_0.dll\n",
            "  warnings.warn(\"loaded more than 1 DLL from .libs:\"\n"
          ]
        }
      ],
      "source": [
        "import pandas as pd\n",
        "from pypfopt.expected_returns import mean_historical_return\n",
        "from pypfopt.efficient_frontier import EfficientFrontier\n",
        "from pypfopt import risk_models\n",
        "from pypfopt import discrete_allocation\n",
        "from pypfopt import expected_returns\n",
        "from pypfopt import risk_models\n",
        "from pypfopt import EfficientFrontier\n",
        "from pypfopt import objective_functions\n",
        "from pypfopt import base_optimizer\n",
        "from pypfopt.discrete_allocation import DiscreteAllocation\n",
        "from pypfopt.hierarchical_portfolio import HRPOpt"
      ]
    },
    {
      "cell_type": "markdown",
      "id": "c8531d3d",
      "metadata": {
        "id": "c8531d3d"
      },
      "source": [
        "## Getting the Data"
      ]
    },
    {
      "cell_type": "code",
      "execution_count": null,
      "id": "d575319d",
      "metadata": {
        "id": "d575319d",
        "outputId": "900fe1ab-d684-42f1-c3d3-405ead7b6124"
      },
      "outputs": [
        {
          "name": "stdout",
          "output_type": "stream",
          "text": [
            "[*********************100%***********************]  17 of 17 completed\n"
          ]
        }
      ],
      "source": [
        "# Define the ticker list\n",
        "tickers_list = ['AAPL', 'WMT', 'MU', 'BA','GOOG','BABA','GE','AMD','BAC','GM','T','UAA','XOM','RRC','PFE','JPM','SBUX']\n",
        "\n",
        "# Fetch the data\n",
        "import yfinance as yf\n",
        "data = yf.download(tickers_list,'2022-6-1')['Adj Close']\n",
        "#print(data.iloc[-1])\n",
        "# Print first 5 rows of the data\n",
        "#print(data.head())\n",
        "#print(data.tail())"
      ]
    },
    {
      "cell_type": "markdown",
      "id": "a2ab6352",
      "metadata": {
        "id": "a2ab6352"
      },
      "source": [
        "## Markowitz with Sharpe maximization"
      ]
    },
    {
      "cell_type": "code",
      "execution_count": null,
      "id": "c7fbf7fc",
      "metadata": {
        "id": "c7fbf7fc",
        "outputId": "a3d7d5d6-378b-450f-8250-2a80defeb585"
      },
      "outputs": [
        {
          "name": "stdout",
          "output_type": "stream",
          "text": [
            "OrderedDict([('AAPL', 0.10889), ('AMD', 0.0), ('BA', 0.2), ('BABA', 0.0), ('BAC', 0.0), ('GE', 0.2), ('GM', 0.0), ('GOOG', 0.0), ('JPM', 0.0), ('MU', 0.0), ('PFE', 0.0), ('RRC', 0.0), ('SBUX', 0.2), ('T', 0.0), ('UAA', 0.0), ('WMT', 0.2), ('XOM', 0.09111)])\n"
          ]
        }
      ],
      "source": [
        "# Prepare historical price data for assets\n",
        "#historical_prices = pd.read_csv('historical_prices.csv', index_col=0, parse_dates=True)\n",
        "historical_prices = data\n",
        "#target_volatility = 0.2\n",
        "\n",
        "\n",
        "# Calculate expected returns\n",
        "returns = expected_returns.mean_historical_return(historical_prices)\n",
        "cov_matrix = risk_models.sample_cov(historical_prices)\n",
        "\n",
        "# Create an instance of EfficientFrontier\n",
        "ef = EfficientFrontier(returns, cov_matrix,weight_bounds = (0,0.2))\n",
        "\n",
        "#ef.efficient_risk(target_volatility)\n",
        "\n",
        "# Optimize for maximum Sharpe ratio\n",
        "weights = ef.max_sharpe()\n",
        "\n",
        "#  print weights\n",
        "cleaned_weights = ef.clean_weights()\n",
        "print(cleaned_weights)"
      ]
    },
    {
      "cell_type": "code",
      "execution_count": null,
      "id": "2701608c",
      "metadata": {
        "id": "2701608c",
        "outputId": "bac17e7e-bdee-476e-8596-6852f9216a73"
      },
      "outputs": [
        {
          "name": "stdout",
          "output_type": "stream",
          "text": [
            "Expected annual return: 42.2%\n",
            "Annual volatility: 21.7%\n",
            "Sharpe Ratio: 1.85\n"
          ]
        },
        {
          "data": {
            "text/plain": [
              "(0.42229891582517004, 0.21730755428487722, 1.8512882221194216)"
            ]
          },
          "execution_count": 4,
          "metadata": {},
          "output_type": "execute_result"
        }
      ],
      "source": [
        "#to know the expected performance of the portfolio with optimal weights w\n",
        "ef.portfolio_performance(verbose=True)"
      ]
    },
    {
      "cell_type": "code",
      "execution_count": null,
      "id": "471f5108",
      "metadata": {
        "id": "471f5108",
        "outputId": "6b6c5ce2-b406-45ac-e636-a42315d093d6"
      },
      "outputs": [
        {
          "name": "stderr",
          "output_type": "stream",
          "text": [
            "C:\\Users\\ruchd\\anaconda3\\lib\\site-packages\\cvxpy\\problems\\problem.py:1385: UserWarning: Solution may be inaccurate. Try another solver, adjusting the solver settings, or solve with verbose=True for more information.\n",
            "  warnings.warn(\n"
          ]
        }
      ],
      "source": [
        "# Calculate the discrete allocation of assets based on the optimal weights\n",
        "latest_prices = historical_prices.iloc[-1]  # Latest prices for the assets\n",
        "da = DiscreteAllocation(cleaned_weights, latest_prices, total_portfolio_value=10000)\n",
        "allocation, leftover = da.lp_portfolio()"
      ]
    },
    {
      "cell_type": "code",
      "execution_count": null,
      "id": "6a5a202f",
      "metadata": {
        "id": "6a5a202f",
        "outputId": "824a8108-777a-49ce-b6e1-530d1ca39097"
      },
      "outputs": [
        {
          "name": "stdout",
          "output_type": "stream",
          "text": [
            "Optimal Allocation: {'AAPL': 6, 'BA': 9, 'GE': 19, 'SBUX': 20, 'WMT': 13, 'XOM': 8}\n"
          ]
        }
      ],
      "source": [
        "print(\"Optimal Allocation:\", allocation)"
      ]
    },
    {
      "cell_type": "markdown",
      "id": "b1ec4e40",
      "metadata": {
        "id": "b1ec4e40"
      },
      "source": [
        "## Markowitz with Target Volatility"
      ]
    },
    {
      "cell_type": "code",
      "execution_count": null,
      "id": "c2b0232f",
      "metadata": {
        "id": "c2b0232f",
        "outputId": "240b43a1-3b2e-4a93-93ee-98d000f2cd39"
      },
      "outputs": [
        {
          "name": "stdout",
          "output_type": "stream",
          "text": [
            "OrderedDict([('AAPL', 0.10889), ('AMD', 0.0), ('BA', 0.2), ('BABA', 0.0), ('BAC', 0.0), ('GE', 0.2), ('GM', 0.0), ('GOOG', 0.0), ('JPM', 0.0), ('MU', 0.0), ('PFE', 0.0), ('RRC', 0.0), ('SBUX', 0.2), ('T', 0.0), ('UAA', 0.0), ('WMT', 0.2), ('XOM', 0.09111)])\n"
          ]
        }
      ],
      "source": [
        "# Prepare historical price data for assets\n",
        "#historical_prices = pd.read_csv('historical_prices.csv', index_col=0, parse_dates=True)\n",
        "historical_prices = data\n",
        "target_volatility = 0.2\n",
        "\n",
        "\n",
        "# Calculate expected returns\n",
        "returns = expected_returns.mean_historical_return(historical_prices)\n",
        "cov_matrix = risk_models.sample_cov(historical_prices)\n",
        "\n",
        "# Create an instance of EfficientFrontier\n",
        "ef_tv = EfficientFrontier(returns, cov_matrix,weight_bounds = (0,0.2))\n",
        "\n",
        "ef_tv.efficient_risk(target_volatility)\n",
        "\n",
        "# Optimize for maximum Sharpe ratio\n",
        "#weights = ef.max_sharpe()\n",
        "\n",
        "#  print weights\n",
        "cleaned_weights_tv = ef_tv.clean_weights()\n",
        "print(cleaned_weights)"
      ]
    },
    {
      "cell_type": "code",
      "execution_count": null,
      "id": "fe061824",
      "metadata": {
        "id": "fe061824",
        "outputId": "95c8bf3e-3559-4019-ac6c-17dfae427a06"
      },
      "outputs": [
        {
          "name": "stdout",
          "output_type": "stream",
          "text": [
            "Expected annual return: 35.2%\n",
            "Annual volatility: 20.0%\n",
            "Sharpe Ratio: 1.66\n"
          ]
        },
        {
          "data": {
            "text/plain": [
              "(0.35215725706711254, 0.20000000026972067, 1.6607862830958207)"
            ]
          },
          "execution_count": 8,
          "metadata": {},
          "output_type": "execute_result"
        }
      ],
      "source": [
        "#to know the expected performance of the portfolio with optimal weights w\n",
        "ef_tv.portfolio_performance(verbose=True)"
      ]
    },
    {
      "cell_type": "code",
      "execution_count": null,
      "id": "fab06d08",
      "metadata": {
        "id": "fab06d08"
      },
      "outputs": [],
      "source": [
        "# Calculate the discrete allocation of assets based on the optimal weights\n",
        "latest_prices = historical_prices.iloc[-1]  # Latest prices for the assets\n",
        "da = DiscreteAllocation(cleaned_weights_tv, latest_prices, total_portfolio_value=10000)\n",
        "allocation_tv, leftover = da.lp_portfolio()"
      ]
    },
    {
      "cell_type": "code",
      "execution_count": null,
      "id": "2d298420",
      "metadata": {
        "id": "2d298420",
        "outputId": "88022767-40ec-4a4a-94fa-440b1e5cd61f"
      },
      "outputs": [
        {
          "name": "stdout",
          "output_type": "stream",
          "text": [
            "Optimal Allocation: {'AAPL': 1, 'BA': 7, 'GE': 19, 'PFE': 22, 'SBUX': 20, 'T': 18, 'WMT': 13, 'XOM': 10}\n"
          ]
        }
      ],
      "source": [
        "print(\"Optimal Allocation:\", allocation_tv)"
      ]
    },
    {
      "cell_type": "markdown",
      "id": "cb4bf7a3",
      "metadata": {
        "id": "cb4bf7a3"
      },
      "source": [
        "## Markowitz with Monthly Rebalancing keeping Original Weights Only"
      ]
    },
    {
      "cell_type": "code",
      "execution_count": null,
      "id": "39112d7e",
      "metadata": {
        "id": "39112d7e"
      },
      "outputs": [],
      "source": [
        "# Create an empty DataFrame to store allocation results\n",
        "allocation_history = pd.DataFrame(columns=tickers_list)\n",
        "\n",
        "# Set initial portfolio value\n",
        "portfolio_value = 10000\n",
        "\n",
        "# Set rebalancing frequency (in months)\n",
        "rebalancing_frequency = 1\n",
        "\n",
        "# Iterate over each month\n",
        "for i in range(0, len(historical_prices), rebalancing_frequency):\n",
        "    # Get historical prices for the current month\n",
        "    prices = historical_prices.iloc[i:i+rebalancing_frequency]\n",
        "\n",
        "    # Calculate expected returns and covariance matrix\n",
        "    returns = expected_returns.mean_historical_return(prices)\n",
        "    cov_matrix = risk_models.sample_cov(prices)\n",
        "\n",
        "    # Create an instance of EfficientFrontier\n",
        "    ef = EfficientFrontier(returns, cov_matrix, weight_bounds=(0, 0.2))\n",
        "\n",
        "    # Optimize for maximum Sharpe ratio\n",
        "    weights = ef.max_sharpe()\n",
        "\n",
        "    # Clean the weights for assets below the lower weight bound\n",
        "    cleaned_weights = ef.clean_weights()\n",
        "\n",
        "    # Calculate the discrete allocation of assets based on the optimal weights\n",
        "    latest_prices = prices.iloc[-1]  # Latest prices for the assets\n",
        "    da = DiscreteAllocation(cleaned_weights, latest_prices, total_portfolio_value=portfolio_value)\n",
        "    allocation, _ = da.lp_portfolio()\n",
        "\n",
        "    # Store the allocation for the current month\n",
        "    allocation_history = allocation_history.append(allocation, ignore_index=True)\n",
        "\n",
        "# Print the allocation history\n",
        "print(allocation_history)"
      ]
    },
    {
      "cell_type": "markdown",
      "id": "2c19a4dd",
      "metadata": {
        "id": "2c19a4dd"
      },
      "source": [
        "## Markowitz with Monthly Rebalancing - With Original Weights Revising every 12 months"
      ]
    }
  ],
  "metadata": {
    "kernelspec": {
      "display_name": "Python 3 (ipykernel)",
      "language": "python",
      "name": "python3"
    },
    "language_info": {
      "codemirror_mode": {
        "name": "ipython",
        "version": 3
      },
      "file_extension": ".py",
      "mimetype": "text/x-python",
      "name": "python",
      "nbconvert_exporter": "python",
      "pygments_lexer": "ipython3",
      "version": "3.10.6"
    },
    "colab": {
      "provenance": [],
      "include_colab_link": true
    }
  },
  "nbformat": 4,
  "nbformat_minor": 5
}