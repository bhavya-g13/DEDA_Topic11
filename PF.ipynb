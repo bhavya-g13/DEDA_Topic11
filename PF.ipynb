{
 "cells": [
  {
   "cell_type": "markdown",
   "id": "98417e16",
   "metadata": {},
   "source": [
    "## Importing Libraries"
   ]
  },
  {
   "cell_type": "code",
   "execution_count": 1,
   "id": "c0c2247d",
   "metadata": {},
   "outputs": [],
   "source": [
    "import pandas as pd\n",
    "from pypfopt.expected_returns import mean_historical_return\n",
    "from pypfopt.efficient_frontier import EfficientFrontier\n",
    "from pypfopt import risk_models\n",
    "from pypfopt import discrete_allocation\n",
    "from pypfopt import expected_returns\n",
    "from pypfopt import risk_models\n",
    "from pypfopt import EfficientFrontier\n",
    "from pypfopt import objective_functions\n",
    "from pypfopt import base_optimizer\n",
    "from pypfopt.discrete_allocation import DiscreteAllocation\n",
    "from pypfopt.hierarchical_portfolio import HRPOpt"
   ]
  },
  {
   "cell_type": "markdown",
   "id": "c8531d3d",
   "metadata": {},
   "source": [
    "## Getting the Data"
   ]
  },
  {
   "cell_type": "code",
   "execution_count": 2,
   "id": "d575319d",
   "metadata": {},
   "outputs": [
    {
     "name": "stdout",
     "output_type": "stream",
     "text": [
      "[*********************100%***********************]  17 of 17 completed\n"
     ]
    }
   ],
   "source": [
    "# Define the ticker list\n",
    "tickers_list = ['AAPL', 'WMT', 'MU', 'BA','GOOG','BABA','GE','AMD','BAC','GM','T','UAA','XOM','RRC','PFE','JPM','SBUX']\n",
    "\n",
    "# Fetch the data\n",
    "import yfinance as yf\n",
    "data = yf.download(tickers_list,'2022-6-1')['Adj Close']\n",
    "#print(data.iloc[-1])\n",
    "# Print first 5 rows of the data\n",
    "#print(data.head())\n",
    "#print(data.tail())"
   ]
  },
  {
   "cell_type": "markdown",
   "id": "a2ab6352",
   "metadata": {},
   "source": [
    "## Markowitz with Sharpe maximization"
   ]
  },
  {
   "cell_type": "code",
   "execution_count": 3,
   "id": "c7fbf7fc",
   "metadata": {},
   "outputs": [
    {
     "name": "stdout",
     "output_type": "stream",
     "text": [
      "OrderedDict([('AAPL', 0.13952), ('AMD', 0.0), ('BA', 0.2), ('BABA', 0.0), ('BAC', 0.0), ('GE', 0.2), ('GM', 0.0), ('GOOG', 0.0), ('JPM', 0.0), ('MU', 0.0), ('PFE', 0.0), ('RRC', 0.0), ('SBUX', 0.2), ('T', 0.0), ('UAA', 0.0), ('WMT', 0.2), ('XOM', 0.06048)])\n"
     ]
    }
   ],
   "source": [
    "# Prepare historical price data for assets\n",
    "#historical_prices = pd.read_csv('historical_prices.csv', index_col=0, parse_dates=True)\n",
    "historical_prices = data\n",
    "#target_volatility = 0.2\n",
    "\n",
    "\n",
    "# Calculate expected returns\n",
    "returns = expected_returns.mean_historical_return(historical_prices)\n",
    "cov_matrix = risk_models.sample_cov(historical_prices)\n",
    "\n",
    "# Create an instance of EfficientFrontier\n",
    "ef = EfficientFrontier(returns, cov_matrix,weight_bounds = (0,0.2))\n",
    "\n",
    "# Optimize for maximum Sharpe ratio\n",
    "weights = ef.max_sharpe()\n",
    "\n",
    "#  print weights\n",
    "cleaned_weights = ef.clean_weights()\n",
    "print(cleaned_weights)"
   ]
  },
  {
   "cell_type": "code",
   "execution_count": 4,
   "id": "2701608c",
   "metadata": {},
   "outputs": [
    {
     "name": "stdout",
     "output_type": "stream",
     "text": [
      "Expected annual return: 43.1%\n",
      "Annual volatility: 21.7%\n",
      "Sharpe Ratio: 1.89\n"
     ]
    },
    {
     "data": {
      "text/plain": [
       "(0.43111261720920735, 0.21746798265070416, 1.8904512388360823)"
      ]
     },
     "execution_count": 4,
     "metadata": {},
     "output_type": "execute_result"
    }
   ],
   "source": [
    "#to know the expected performance of the portfolio with optimal weights w\n",
    "ef.portfolio_performance(verbose=True)"
   ]
  },
  {
   "cell_type": "code",
   "execution_count": 5,
   "id": "471f5108",
   "metadata": {},
   "outputs": [
    {
     "name": "stderr",
     "output_type": "stream",
     "text": [
      "/home/bhavya/anaconda3/lib/python3.10/site-packages/cvxpy/problems/problem.py:1385: UserWarning: Solution may be inaccurate. Try another solver, adjusting the solver settings, or solve with verbose=True for more information.\n",
      "  warnings.warn(\n"
     ]
    }
   ],
   "source": [
    "# Calculate the discrete allocation of assets based on the optimal weights\n",
    "latest_prices = historical_prices.iloc[-1]  # Latest prices for the assets\n",
    "da = DiscreteAllocation(cleaned_weights, latest_prices, total_portfolio_value=10000)\n",
    "allocation, leftover = da.lp_portfolio()"
   ]
  },
  {
   "cell_type": "code",
   "execution_count": 6,
   "id": "6a5a202f",
   "metadata": {},
   "outputs": [
    {
     "name": "stdout",
     "output_type": "stream",
     "text": [
      "Optimal Allocation: {'AMD': 1, 'BA': 9, 'BABA': 1, 'BAC': 3, 'GE': 20, 'GM': 2, 'GOOG': 1, 'JPM': 1, 'MU': 1, 'PFE': 2, 'RRC': 3, 'SBUX': 21, 'T': 6, 'UAA': 12, 'WMT': 13, 'XOM': 6}\n"
     ]
    }
   ],
   "source": [
    "print(\"Optimal Allocation:\", allocation)"
   ]
  },
  {
   "cell_type": "markdown",
   "id": "b1ec4e40",
   "metadata": {},
   "source": [
    "## Markowitz with Target Volatility"
   ]
  },
  {
   "cell_type": "code",
   "execution_count": 7,
   "id": "c2b0232f",
   "metadata": {},
   "outputs": [
    {
     "name": "stdout",
     "output_type": "stream",
     "text": [
      "OrderedDict([('AAPL', 0.13952), ('AMD', 0.0), ('BA', 0.2), ('BABA', 0.0), ('BAC', 0.0), ('GE', 0.2), ('GM', 0.0), ('GOOG', 0.0), ('JPM', 0.0), ('MU', 0.0), ('PFE', 0.0), ('RRC', 0.0), ('SBUX', 0.2), ('T', 0.0), ('UAA', 0.0), ('WMT', 0.2), ('XOM', 0.06048)])\n"
     ]
    }
   ],
   "source": [
    "# Prepare historical price data for assets\n",
    "#historical_prices = pd.read_csv('historical_prices.csv', index_col=0, parse_dates=True)\n",
    "historical_prices = data\n",
    "target_volatility = 0.2\n",
    "\n",
    "\n",
    "# Calculate expected returns\n",
    "returns = expected_returns.mean_historical_return(historical_prices)\n",
    "cov_matrix = risk_models.sample_cov(historical_prices)\n",
    "\n",
    "# Create an instance of EfficientFrontier\n",
    "ef_tv = EfficientFrontier(returns, cov_matrix,weight_bounds = (0,0.2))\n",
    "\n",
    "ef_tv.efficient_risk(target_volatility)\n",
    "\n",
    "# Optimize for maximum Sharpe ratio\n",
    "#weights = ef.max_sharpe()\n",
    "\n",
    "#  print weights\n",
    "cleaned_weights_tv = ef_tv.clean_weights()\n",
    "print(cleaned_weights)"
   ]
  },
  {
   "cell_type": "code",
   "execution_count": 8,
   "id": "fe061824",
   "metadata": {},
   "outputs": [
    {
     "name": "stdout",
     "output_type": "stream",
     "text": [
      "Expected annual return: 36.3%\n",
      "Annual volatility: 20.0%\n",
      "Sharpe Ratio: 1.71\n"
     ]
    },
    {
     "data": {
      "text/plain": [
       "(0.3626379233916832, 0.2000000002091851, 1.7131896151665473)"
      ]
     },
     "execution_count": 8,
     "metadata": {},
     "output_type": "execute_result"
    }
   ],
   "source": [
    "#to know the expected performance of the portfolio with optimal weights w\n",
    "ef_tv.portfolio_performance(verbose=True)"
   ]
  },
  {
   "cell_type": "code",
   "execution_count": 9,
   "id": "fab06d08",
   "metadata": {},
   "outputs": [
    {
     "name": "stderr",
     "output_type": "stream",
     "text": [
      "/home/bhavya/anaconda3/lib/python3.10/site-packages/cvxpy/problems/problem.py:1385: UserWarning: Solution may be inaccurate. Try another solver, adjusting the solver settings, or solve with verbose=True for more information.\n",
      "  warnings.warn(\n"
     ]
    }
   ],
   "source": [
    "# Calculate the discrete allocation of assets based on the optimal weights\n",
    "latest_prices = historical_prices.iloc[-1]  # Latest prices for the assets\n",
    "da = DiscreteAllocation(cleaned_weights_tv, latest_prices, total_portfolio_value=10000)\n",
    "allocation_tv, leftover = da.lp_portfolio()"
   ]
  },
  {
   "cell_type": "code",
   "execution_count": 10,
   "id": "2d298420",
   "metadata": {},
   "outputs": [
    {
     "name": "stdout",
     "output_type": "stream",
     "text": [
      "Optimal Allocation: {'BA': 7, 'BAC': 1, 'GE': 19, 'GM': 1, 'PFE': 21, 'RRC': 1, 'SBUX': 20, 'T': 15, 'UAA': 4, 'WMT': 13, 'XOM': 10}\n"
     ]
    }
   ],
   "source": [
    "print(\"Optimal Allocation:\", allocation_tv)"
   ]
  },
  {
   "cell_type": "markdown",
   "id": "cb4bf7a3",
   "metadata": {},
   "source": [
    "## Markowitz with Monthly Rebalancing keeping Original Weights Only\n",
    "\n",
    "Currently getting ValueError: at least one of the assets must have an expected return exceeding the risk-free rate\n"
   ]
  },
  {
   "cell_type": "code",
   "execution_count": 11,
   "id": "39112d7e",
   "metadata": {
    "scrolled": true
   },
   "outputs": [
    {
     "name": "stderr",
     "output_type": "stream",
     "text": [
      "/home/bhavya/.local/lib/python3.10/site-packages/numpy/lib/function_base.py:518: RuntimeWarning: Mean of empty slice.\n",
      "  avg = a.mean(axis, **keepdims_kw)\n",
      "/home/bhavya/.local/lib/python3.10/site-packages/numpy/core/_methods.py:184: RuntimeWarning: invalid value encountered in divide\n",
      "  ret = um.true_divide(\n",
      "/home/bhavya/.local/lib/python3.10/site-packages/pandas/core/frame.py:10222: RuntimeWarning: Degrees of freedom <= 0 for slice\n",
      "  base_cov = np.cov(mat.T, ddof=ddof)\n",
      "/home/bhavya/.local/lib/python3.10/site-packages/numpy/lib/function_base.py:2705: RuntimeWarning: divide by zero encountered in divide\n",
      "  c *= np.true_divide(1, fact)\n",
      "/home/bhavya/.local/lib/python3.10/site-packages/numpy/lib/function_base.py:2705: RuntimeWarning: invalid value encountered in multiply\n",
      "  c *= np.true_divide(1, fact)\n"
     ]
    },
    {
     "ename": "ValueError",
     "evalue": "at least one of the assets must have an expected return exceeding the risk-free rate",
     "output_type": "error",
     "traceback": [
      "\u001b[0;31m---------------------------------------------------------------------------\u001b[0m",
      "\u001b[0;31mValueError\u001b[0m                                Traceback (most recent call last)",
      "Cell \u001b[0;32mIn[11], line 23\u001b[0m\n\u001b[1;32m     20\u001b[0m ef \u001b[38;5;241m=\u001b[39m EfficientFrontier(returns, cov_matrix, weight_bounds\u001b[38;5;241m=\u001b[39m(\u001b[38;5;241m0\u001b[39m, \u001b[38;5;241m0.2\u001b[39m))\n\u001b[1;32m     22\u001b[0m \u001b[38;5;66;03m# Optimize for maximum Sharpe ratio\u001b[39;00m\n\u001b[0;32m---> 23\u001b[0m weights \u001b[38;5;241m=\u001b[39m \u001b[43mef\u001b[49m\u001b[38;5;241;43m.\u001b[39;49m\u001b[43mmax_sharpe\u001b[49m\u001b[43m(\u001b[49m\u001b[43m)\u001b[49m\n\u001b[1;32m     25\u001b[0m \u001b[38;5;66;03m# Clean the weights for assets below the lower weight bound\u001b[39;00m\n\u001b[1;32m     26\u001b[0m cleaned_weights \u001b[38;5;241m=\u001b[39m ef\u001b[38;5;241m.\u001b[39mclean_weights()\n",
      "File \u001b[0;32m~/anaconda3/lib/python3.10/site-packages/pypfopt/efficient_frontier/efficient_frontier.py:245\u001b[0m, in \u001b[0;36mEfficientFrontier.max_sharpe\u001b[0;34m(self, risk_free_rate)\u001b[0m\n\u001b[1;32m    242\u001b[0m     \u001b[38;5;28;01mraise\u001b[39;00m \u001b[38;5;167;01mValueError\u001b[39;00m(\u001b[38;5;124m\"\u001b[39m\u001b[38;5;124mrisk_free_rate should be numeric\u001b[39m\u001b[38;5;124m\"\u001b[39m)\n\u001b[1;32m    244\u001b[0m \u001b[38;5;28;01mif\u001b[39;00m \u001b[38;5;28mmax\u001b[39m(\u001b[38;5;28mself\u001b[39m\u001b[38;5;241m.\u001b[39mexpected_returns) \u001b[38;5;241m<\u001b[39m\u001b[38;5;241m=\u001b[39m risk_free_rate:\n\u001b[0;32m--> 245\u001b[0m     \u001b[38;5;28;01mraise\u001b[39;00m \u001b[38;5;167;01mValueError\u001b[39;00m(\n\u001b[1;32m    246\u001b[0m         \u001b[38;5;124m\"\u001b[39m\u001b[38;5;124mat least one of the assets must have an expected return exceeding the risk-free rate\u001b[39m\u001b[38;5;124m\"\u001b[39m\n\u001b[1;32m    247\u001b[0m     )\n\u001b[1;32m    249\u001b[0m \u001b[38;5;28mself\u001b[39m\u001b[38;5;241m.\u001b[39m_risk_free_rate \u001b[38;5;241m=\u001b[39m risk_free_rate\n\u001b[1;32m    251\u001b[0m \u001b[38;5;66;03m# max_sharpe requires us to make a variable transformation.\u001b[39;00m\n\u001b[1;32m    252\u001b[0m \u001b[38;5;66;03m# Here we treat w as the transformed variable.\u001b[39;00m\n",
      "\u001b[0;31mValueError\u001b[0m: at least one of the assets must have an expected return exceeding the risk-free rate"
     ]
    }
   ],
   "source": [
    "# Create an empty DataFrame to store allocation results\n",
    "allocation_history = pd.DataFrame(columns=tickers_list)\n",
    "\n",
    "# Set initial portfolio value\n",
    "portfolio_value = 10000\n",
    "\n",
    "# Set rebalancing frequency (in months)\n",
    "rebalancing_frequency = 1\n",
    "\n",
    "# Iterate over each month\n",
    "for i in range(0, len(historical_prices), rebalancing_frequency):\n",
    "    # Get historical prices for the current month\n",
    "    prices = historical_prices.iloc[i:i+rebalancing_frequency]\n",
    "\n",
    "    # Calculate expected returns and covariance matrix\n",
    "    returns = expected_returns.mean_historical_return(prices)\n",
    "    cov_matrix = risk_models.sample_cov(prices)\n",
    "\n",
    "    # Create an instance of EfficientFrontier\n",
    "    ef = EfficientFrontier(returns, cov_matrix, weight_bounds=(0, 0.2))\n",
    "\n",
    "    # Optimize for maximum Sharpe ratio\n",
    "    weights = ef.max_sharpe()\n",
    "\n",
    "    # Clean the weights for assets below the lower weight bound\n",
    "    cleaned_weights = ef.clean_weights()\n",
    "\n",
    "    # Calculate the discrete allocation of assets based on the optimal weights\n",
    "    latest_prices = prices.iloc[-1]  # Latest prices for the assets\n",
    "    da = DiscreteAllocation(cleaned_weights, latest_prices, total_portfolio_value=portfolio_value)\n",
    "    allocation, _ = da.lp_portfolio()\n",
    "\n",
    "    # Store the allocation for the current month\n",
    "    allocation_history = allocation_history.append(allocation, ignore_index=True)\n",
    "\n",
    "# Print the allocation history\n",
    "print(allocation_history)"
   ]
  },
  {
   "cell_type": "markdown",
   "id": "04891263",
   "metadata": {},
   "source": [
    "### Test // Combining all above approaches into a single function"
   ]
  },
  {
   "cell_type": "code",
   "execution_count": null,
   "id": "e3046344",
   "metadata": {},
   "outputs": [],
   "source": [
    "def optimize_portfolio(historical_prices, objective, target=None, rebalance=False):\n",
    "    # Calculate expected returns\n",
    "    returns = expected_returns.mean_historical_return(historical_prices)\n",
    "    cov_matrix = risk_models.sample_cov(historical_prices)\n",
    "\n",
    "    # Create an instance of EfficientFrontier\n",
    "    ef = EfficientFrontier(returns, cov_matrix, weight_bounds=(0, 0.2))\n",
    "\n",
    "    if objective == \"max_sharpe\":\n",
    "        # Optimize for maximum Sharpe ratio\n",
    "        weights = ef.max_sharpe()\n",
    "    elif objective == \"target_volatility\":\n",
    "        # Optimize for target volatility\n",
    "        ef.efficient_risk(target)\n",
    "        weights = ef.clean_weights()\n",
    "    else:\n",
    "        raise ValueError(\"Invalid optimization objective. Please choose 'max_sharpe' or 'target_volatility'.\")\n",
    "\n",
    "    # Print weights\n",
    "    cleaned_weights = ef.clean_weights()\n",
    "    print(cleaned_weights)\n",
    "\n",
    "    # Portfolio performance\n",
    "    ef.portfolio_performance(verbose=True)\n",
    "\n",
    "    # Calculate the discrete allocation of assets based on the optimal weights\n",
    "    latest_prices = historical_prices.iloc[-1]  # Latest prices for the assets\n",
    "    da = discrete_allocation.DiscreteAllocation(cleaned_weights, latest_prices, total_portfolio_value=10000)\n",
    "    allocation, leftover = da.lp_portfolio()\n",
    "\n",
    "    print(\"Optimal Allocation:\", allocation)\n",
    "\n",
    "    if rebalance:\n",
    "        # Rebalance monthly\n",
    "        rebalance_date = historical_prices.index[-1] + timedelta(days=30)\n",
    "        historical_prices_rebalanced = historical_prices.loc[:rebalance_date]\n",
    "        optimize_portfolio(historical_prices_rebalanced, objective, target, rebalance=True)\n",
    "\n",
    "\n",
    "# Getting the Data\n",
    "tickers_list = ['AAPL', 'WMT', 'MU', 'BA', 'GOOG', 'BABA', 'GE', 'AMD', 'BAC', 'GM', 'T', 'UAA', 'XOM', 'RRC', 'PFE', 'JPM',\n",
    "                'SBUX']\n",
    "data = yf.download(tickers_list, '2022-6-1')['Adj Close']\n",
    "\n",
    "# Markowitz with Sharpe maximization\n",
    "historical_prices = data\n",
    "optimize_portfolio(historical_prices, objective=\"max_sharpe\", rebalance=False)\n",
    "\n",
    "# Markowitz with Target Volatility\n",
    "historical_prices = data\n",
    "target_volatility = 0.2\n",
    "optimize_portfolio(historical_prices, objective=\"target_volatility\", target=target_volatility, rebalance=True)"
   ]
  },
  {
   "cell_type": "markdown",
   "id": "2c19a4dd",
   "metadata": {},
   "source": [
    "## Markowitz with Monthly Rebalancing - With Original Weights Revising every 12 months"
   ]
  }
 ],
 "metadata": {
  "kernelspec": {
   "display_name": "Python 3 (ipykernel)",
   "language": "python",
   "name": "python3"
  },
  "language_info": {
   "codemirror_mode": {
    "name": "ipython",
    "version": 3
   },
   "file_extension": ".py",
   "mimetype": "text/x-python",
   "name": "python",
   "nbconvert_exporter": "python",
   "pygments_lexer": "ipython3",
   "version": "3.10.9"
  }
 },
 "nbformat": 4,
 "nbformat_minor": 5
}
