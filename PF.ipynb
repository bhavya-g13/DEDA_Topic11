{
 "cells": [
  {
   "cell_type": "markdown",
   "id": "98417e16",
   "metadata": {},
   "source": [
    "## Importing Libraries"
   ]
  },
  {
   "cell_type": "code",
   "execution_count": 1,
   "id": "c0c2247d",
   "metadata": {},
   "outputs": [],
   "source": [
    "import pandas as pd\n",
    "import numpy as np\n",
    "from datetime import date, timedelta\n",
    "from dateutil.relativedelta import relativedelta\n",
    "import matplotlib.pyplot as plt\n",
    "import pypfopt.plotting as plotting\n",
    "from pypfopt.expected_returns import mean_historical_return\n",
    "from pypfopt.efficient_frontier import EfficientFrontier\n",
    "from pypfopt import risk_models\n",
    "from pypfopt import discrete_allocation\n",
    "from pypfopt import expected_returns\n",
    "from pypfopt import risk_models\n",
    "from pypfopt import EfficientFrontier\n",
    "from pypfopt import objective_functions\n",
    "from pypfopt import base_optimizer\n",
    "from pypfopt.discrete_allocation import DiscreteAllocation\n",
    "from pypfopt.hierarchical_portfolio import HRPOpt\n",
    "\n",
    "from custom_allocation import CustomDiscreteAllocation"
   ]
  },
  {
   "cell_type": "code",
   "execution_count": 2,
   "id": "5fdf4515",
   "metadata": {},
   "outputs": [
    {
     "name": "stdout",
     "output_type": "stream",
     "text": [
      "MMM\n",
      "AOS\n",
      "ABT\n",
      "ABBV\n",
      "ACN\n",
      "ATVI\n",
      "ADM\n",
      "ADBE\n",
      "ADP\n",
      "AAP\n",
      "AES\n",
      "AFL\n",
      "A\n",
      "APD\n",
      "AKAM\n",
      "ALK\n",
      "ALB\n",
      "ARE\n",
      "ALGN\n",
      "ALLE\n",
      "LNT\n",
      "ALL\n",
      "GOOGL\n",
      "GOOG\n",
      "MO\n",
      "AMZN\n",
      "AMCR\n",
      "AMD\n",
      "AEE\n",
      "AAL\n",
      "AEP\n",
      "AXP\n",
      "AIG\n",
      "AMT\n",
      "AWK\n",
      "AMP\n",
      "ABC\n",
      "AME\n",
      "AMGN\n",
      "APH\n",
      "ADI\n",
      "ANSS\n",
      "AON\n",
      "APA\n",
      "AAPL\n",
      "AMAT\n",
      "APTV\n",
      "ACGL\n",
      "ANET\n",
      "AJG\n",
      "AIZ\n",
      "T\n",
      "ATO\n",
      "ADSK\n",
      "AZO\n",
      "AVB\n",
      "AVY\n",
      "AXON\n",
      "BKR\n",
      "BALL\n",
      "BAC\n",
      "BBWI\n",
      "BAX\n",
      "BDX\n",
      "WRB\n",
      "BRK.B\n",
      "BBY\n",
      "BIO\n",
      "TECH\n",
      "BIIB\n",
      "BLK\n",
      "BK\n",
      "BA\n",
      "BKNG\n",
      "BWA\n",
      "BXP\n",
      "BSX\n",
      "BMY\n",
      "AVGO\n",
      "BR\n",
      "BRO\n",
      "BF.B\n",
      "BG\n",
      "CHRW\n",
      "CDNS\n",
      "CZR\n",
      "CPT\n",
      "CPB\n",
      "COF\n",
      "CAH\n",
      "KMX\n",
      "CCL\n",
      "CARR\n",
      "CTLT\n",
      "CAT\n",
      "CBOE\n",
      "CBRE\n",
      "CDW\n",
      "CE\n",
      "CNC\n",
      "CNP\n",
      "CDAY\n",
      "CF\n",
      "CRL\n",
      "SCHW\n",
      "CHTR\n",
      "CVX\n",
      "CMG\n",
      "CB\n",
      "CHD\n",
      "CI\n",
      "CINF\n",
      "CTAS\n",
      "CSCO\n",
      "C\n",
      "CFG\n",
      "CLX\n",
      "CME\n",
      "CMS\n",
      "KO\n",
      "CTSH\n",
      "CL\n",
      "CMCSA\n",
      "CMA\n",
      "CAG\n",
      "COP\n",
      "ED\n",
      "STZ\n",
      "CEG\n",
      "COO\n",
      "CPRT\n",
      "GLW\n",
      "CTVA\n",
      "CSGP\n",
      "COST\n",
      "CTRA\n",
      "CCI\n",
      "CSX\n",
      "CMI\n",
      "CVS\n",
      "DHI\n",
      "DHR\n",
      "DRI\n",
      "DVA\n",
      "DE\n",
      "DAL\n",
      "XRAY\n",
      "DVN\n",
      "DXCM\n",
      "FANG\n",
      "DLR\n",
      "DFS\n",
      "DIS\n",
      "DG\n",
      "DLTR\n",
      "D\n",
      "DPZ\n",
      "DOV\n",
      "DOW\n",
      "DTE\n",
      "DUK\n",
      "DD\n",
      "DXC\n",
      "EMN\n",
      "ETN\n",
      "EBAY\n",
      "ECL\n",
      "EIX\n",
      "EW\n",
      "EA\n",
      "ELV\n",
      "LLY\n",
      "EMR\n",
      "ENPH\n",
      "ETR\n",
      "EOG\n",
      "EPAM\n",
      "EQT\n",
      "EFX\n",
      "EQIX\n",
      "EQR\n",
      "ESS\n",
      "EL\n",
      "ETSY\n",
      "RE\n",
      "EVRG\n",
      "ES\n",
      "EXC\n",
      "EXPE\n",
      "EXPD\n",
      "EXR\n",
      "XOM\n",
      "FFIV\n",
      "FDS\n",
      "FICO\n",
      "FAST\n",
      "FRT\n",
      "FDX\n",
      "FITB\n",
      "FSLR\n",
      "FE\n",
      "FIS\n",
      "FI\n",
      "FLT\n",
      "FMC\n",
      "F\n",
      "FTNT\n",
      "FTV\n",
      "FOXA\n",
      "FOX\n",
      "BEN\n",
      "FCX\n",
      "GRMN\n",
      "IT\n",
      "GEHC\n",
      "GEN\n",
      "GNRC\n",
      "GD\n",
      "GE\n",
      "GIS\n",
      "GM\n",
      "GPC\n",
      "GILD\n",
      "GL\n",
      "GPN\n",
      "GS\n",
      "HAL\n",
      "HIG\n",
      "HAS\n",
      "HCA\n",
      "PEAK\n",
      "HSIC\n",
      "HSY\n",
      "HES\n",
      "HPE\n",
      "HLT\n",
      "HOLX\n",
      "HD\n",
      "HON\n",
      "HRL\n",
      "HST\n",
      "HWM\n",
      "HPQ\n",
      "HUM\n",
      "HBAN\n",
      "HII\n",
      "IBM\n",
      "IEX\n",
      "IDXX\n",
      "ITW\n",
      "ILMN\n",
      "INCY\n",
      "IR\n",
      "PODD\n",
      "INTC\n",
      "ICE\n",
      "IFF\n",
      "IP\n",
      "IPG\n",
      "INTU\n",
      "ISRG\n",
      "IVZ\n",
      "INVH\n",
      "IQV\n",
      "IRM\n",
      "JBHT\n",
      "JKHY\n",
      "J\n",
      "JNJ\n",
      "JCI\n",
      "JPM\n",
      "JNPR\n",
      "K\n",
      "KDP\n",
      "KEY\n",
      "KEYS\n",
      "KMB\n",
      "KIM\n",
      "KMI\n",
      "KLAC\n",
      "KHC\n",
      "KR\n",
      "LHX\n",
      "LH\n",
      "LRCX\n",
      "LW\n",
      "LVS\n",
      "LDOS\n",
      "LEN\n",
      "LNC\n",
      "LIN\n",
      "LYV\n",
      "LKQ\n",
      "LMT\n",
      "L\n",
      "LOW\n",
      "LYB\n",
      "MTB\n",
      "MRO\n",
      "MPC\n",
      "MKTX\n",
      "MAR\n",
      "MMC\n",
      "MLM\n",
      "MAS\n",
      "MA\n",
      "MTCH\n",
      "MKC\n",
      "MCD\n",
      "MCK\n",
      "MDT\n",
      "MRK\n",
      "META\n",
      "MET\n",
      "MTD\n",
      "MGM\n",
      "MCHP\n",
      "MU\n",
      "MSFT\n",
      "MAA\n",
      "MRNA\n",
      "MHK\n",
      "MOH\n",
      "TAP\n",
      "MDLZ\n",
      "MPWR\n",
      "MNST\n",
      "MCO\n",
      "MS\n",
      "MOS\n",
      "MSI\n",
      "MSCI\n",
      "NDAQ\n",
      "NTAP\n",
      "NFLX\n",
      "NWL\n",
      "NEM\n",
      "NWSA\n",
      "NWS\n",
      "NEE\n",
      "NKE\n",
      "NI\n",
      "NDSN\n",
      "NSC\n",
      "NTRS\n",
      "NOC\n",
      "NCLH\n",
      "NRG\n",
      "NUE\n",
      "NVDA\n",
      "NVR\n",
      "NXPI\n",
      "ORLY\n",
      "OXY\n",
      "ODFL\n",
      "OMC\n",
      "ON\n",
      "OKE\n",
      "ORCL\n",
      "OGN\n",
      "OTIS\n",
      "PCAR\n",
      "PKG\n",
      "PANW\n",
      "PARA\n",
      "PH\n",
      "PAYX\n",
      "PAYC\n",
      "PYPL\n",
      "PNR\n",
      "PEP\n",
      "PFE\n",
      "PCG\n",
      "PM\n",
      "PSX\n",
      "PNW\n",
      "PXD\n",
      "PNC\n",
      "POOL\n",
      "PPG\n",
      "PPL\n",
      "PFG\n",
      "PG\n",
      "PGR\n",
      "PLD\n",
      "PRU\n",
      "PEG\n",
      "PTC\n",
      "PSA\n",
      "PHM\n",
      "QRVO\n",
      "PWR\n",
      "QCOM\n",
      "DGX\n",
      "RL\n",
      "RJF\n",
      "RTX\n",
      "O\n",
      "REG\n",
      "REGN\n",
      "RF\n",
      "RSG\n",
      "RMD\n",
      "RVTY\n",
      "RHI\n",
      "ROK\n",
      "ROL\n",
      "ROP\n",
      "ROST\n",
      "RCL\n",
      "SPGI\n",
      "CRM\n",
      "SBAC\n",
      "SLB\n",
      "STX\n",
      "SEE\n",
      "SRE\n",
      "NOW\n",
      "SHW\n",
      "SPG\n",
      "SWKS\n",
      "SJM\n",
      "SNA\n",
      "SEDG\n",
      "SO\n",
      "LUV\n",
      "SWK\n",
      "SBUX\n",
      "STT\n",
      "STLD\n",
      "STE\n",
      "SYK\n",
      "SYF\n",
      "SNPS\n",
      "SYY\n",
      "TMUS\n",
      "TROW\n",
      "TTWO\n",
      "TPR\n",
      "TRGP\n",
      "TGT\n",
      "TEL\n",
      "TDY\n",
      "TFX\n",
      "TER\n",
      "TSLA\n",
      "TXN\n",
      "TXT\n",
      "TMO\n",
      "TJX\n",
      "TSCO\n",
      "TT\n",
      "TDG\n",
      "TRV\n",
      "TRMB\n",
      "TFC\n",
      "TYL\n",
      "TSN\n",
      "USB\n",
      "UDR\n",
      "ULTA\n",
      "UNP\n",
      "UAL\n",
      "UPS\n",
      "URI\n",
      "UNH\n",
      "UHS\n",
      "VLO\n",
      "VTR\n",
      "VRSN\n",
      "VRSK\n",
      "VZ\n",
      "VRTX\n",
      "VFC\n",
      "VTRS\n",
      "VICI\n",
      "V\n",
      "VMC\n",
      "WAB\n",
      "WBA\n",
      "WMT\n",
      "WBD\n",
      "WM\n",
      "WAT\n",
      "WEC\n",
      "WFC\n",
      "WELL\n",
      "WST\n",
      "WDC\n",
      "WRK\n",
      "WY\n",
      "WHR\n",
      "WMB\n",
      "WTW\n",
      "GWW\n",
      "WYNN\n",
      "XEL\n",
      "XYL\n",
      "YUM\n",
      "ZBRA\n",
      "ZBH\n",
      "ZION\n",
      "ZTS\n"
     ]
    }
   ],
   "source": [
    "import requests\n",
    "from bs4 import BeautifulSoup\n",
    "\n",
    "# URL of the Wikipedia page containing the S&P 500 components\n",
    "url = 'https://en.wikipedia.org/wiki/List_of_S%26P_500_companies'\n",
    "\n",
    "# Send a GET request to the URL and get the page content\n",
    "response = requests.get(url)\n",
    "content = response.content\n",
    "\n",
    "# Parse the HTML content using BeautifulSoup\n",
    "soup = BeautifulSoup(content, 'html.parser')\n",
    "\n",
    "# Find the table containing the stock data\n",
    "table = soup.find('table', {'class': 'wikitable sortable'})\n",
    "\n",
    "# Find all rows in the table\n",
    "rows = table.find_all('tr')\n",
    "\n",
    "# Iterate over the rows and extract the stock symbols\n",
    "sp500_stocks = []\n",
    "for row in rows[1:]:\n",
    "    cells = row.find_all('td')\n",
    "    stock_symbol = cells[0].text.strip()\n",
    "    sp500_stocks.append(stock_symbol)\n",
    "\n",
    "# Print the list of S&P 500 stocks\n",
    "for stock in sp500_stocks:\n",
    "    print(stock)"
   ]
  },
  {
   "cell_type": "code",
   "execution_count": 3,
   "id": "da169389",
   "metadata": {},
   "outputs": [
    {
     "data": {
      "text/plain": [
       "503"
      ]
     },
     "execution_count": 3,
     "metadata": {},
     "output_type": "execute_result"
    }
   ],
   "source": [
    "len(sp500_stocks)"
   ]
  },
  {
   "cell_type": "code",
   "execution_count": 4,
   "id": "865e47e0",
   "metadata": {},
   "outputs": [
    {
     "name": "stdout",
     "output_type": "stream",
     "text": [
      "MCO\n",
      "AXON\n",
      "A\n",
      "PPG\n",
      "DHI\n",
      "COP\n",
      "C\n",
      "BK\n",
      "PNC\n",
      "ATO\n",
      "NCLH\n",
      "TYL\n",
      "KLAC\n",
      "AAPL\n",
      "MMC\n",
      "GNRC\n",
      "ALB\n",
      "ALK\n",
      "ACGL\n",
      "CINF\n"
     ]
    }
   ],
   "source": [
    "import random\n",
    "\n",
    "# Set the seed for reproducibility\n",
    "random.seed(42)\n",
    "\n",
    "# Generate random selection of 20 stocks\n",
    "random_stocks = random.sample(sp500_stocks, 20)\n",
    "\n",
    "# Print the randomly selected stocks\n",
    "for stock in random_stocks:\n",
    "    print(stock)"
   ]
  },
  {
   "cell_type": "markdown",
   "id": "3199e59d",
   "metadata": {},
   "source": [
    "MCO\n",
    "AXON\n",
    "A\n",
    "PPG\n",
    "DHI\n",
    "COP\n",
    "C\n",
    "BK\n",
    "PNC\n",
    "ATO\n",
    "NCLH\n",
    "TYL\n",
    "KLAC\n",
    "AAPL\n",
    "MMC\n",
    "GNRC\n",
    "ALB\n",
    "ALK\n",
    "ACGL\n",
    "CINF"
   ]
  },
  {
   "cell_type": "markdown",
   "id": "c8531d3d",
   "metadata": {},
   "source": [
    "## Getting the Data"
   ]
  },
  {
   "cell_type": "code",
   "execution_count": 5,
   "id": "d575319d",
   "metadata": {},
   "outputs": [
    {
     "name": "stdout",
     "output_type": "stream",
     "text": [
      "[*********************100%***********************]  20 of 20 completed\n"
     ]
    }
   ],
   "source": [
    "start_date = date(2020,1,1)\n",
    "end_date = date(2020, 12, 31)\n",
    "\n",
    "# Define the ticker list\n",
    "tickers_list = random_stocks\n",
    "\n",
    "# Fetch the training data\n",
    "import yfinance as yf\n",
    "\n",
    "\n",
    "train_data = yf.download(tickers_list, start=start_date, end=end_date)['Adj Close']\n",
    "\n",
    "\n",
    "# Print the available tickers\n",
    "#print(train_data.keys())\n",
    "#print(data.iloc[-1])\n",
    "# Print first 5 rows of the data\n",
    "#print(data.head())\n",
    "#print(data.tail())"
   ]
  },
  {
   "cell_type": "code",
   "execution_count": 6,
   "id": "9d183721",
   "metadata": {},
   "outputs": [
    {
     "name": "stdout",
     "output_type": "stream",
     "text": [
      "[*********************100%***********************]  1 of 1 completed\n"
     ]
    }
   ],
   "source": [
    "# Download benchmark data - We can also use Buffet's Portfolio as a Benchmark\n",
    "spy_data = yf.download('SPY', start=start_date, end=end_date)['Adj Close']"
   ]
  },
  {
   "cell_type": "markdown",
   "id": "a2ab6352",
   "metadata": {},
   "source": [
    "# Applying Markowitz"
   ]
  },
  {
   "cell_type": "code",
   "execution_count": 7,
   "id": "32fc3154",
   "metadata": {},
   "outputs": [],
   "source": [
    "# Prepare historical price data for assets\n",
    "#historical_prices = pd.read_csv('historical_prices.csv', index_col=0, parse_dates=True)\n",
    "historical_prices = train_data\n",
    "\n",
    "\n",
    "# Calculate expected returns\n",
    "returns = expected_returns.mean_historical_return(historical_prices)\n",
    "#Add shrinkage here\n",
    "#https://pyportfolioopt.readthedocs.io/en/latest/RiskModels.html#pypfopt.risk_models.CovarianceShrinkage\n",
    "cov_matrix = risk_models.sample_cov(historical_prices)\n",
    "\n",
    "# Create an instance of EfficientFrontier\n",
    "#ef = EfficientFrontier(returns, cov_matrix,weight_bounds = (0,0.2))\n",
    "ef = EfficientFrontier(returns, cov_matrix, weight_bounds = (0,0.2))"
   ]
  },
  {
   "cell_type": "markdown",
   "id": "4e3b9905",
   "metadata": {},
   "source": [
    "## Efficient Frontier with random portfolios"
   ]
  },
  {
   "cell_type": "markdown",
   "id": "ec9f4168",
   "metadata": {},
   "source": [
    "Maximise the Sharpe Ratio. The result is also referred to as the tangency portfolio, as it is the portfolio for which the capital market line is tangent to the efficient frontier.\n",
    "\n",
    "This is a convex optimization problem after making a certain variable substitution. See Cornuejols and Tutuncu (2006) for more.\n",
    "\n",
    "Because max_sharpe() makes a variable substitution, additional objectives may not work as intended."
   ]
  },
  {
   "cell_type": "code",
   "execution_count": 8,
   "id": "350d8bb8",
   "metadata": {},
   "outputs": [
    {
     "data": {
      "image/png": "[encoded data removed]",
      "text/plain": [
       "<Figure size 640x480 with 1 Axes>"
      ]
     },
     "metadata": {},
     "output_type": "display_data"
    }
   ],
   "source": [
    "fig, ax = plt.subplots()\n",
    "ef_optimize = ef.deepcopy()\n",
    "plotting.plot_efficient_frontier(ef, ax=ax, show_assets=False)\n",
    "\n",
    "### Choosing Optimization Strategy (Comment out the other approach you want to use)\n",
    "\n",
    "### adding gamma for diversification - https://pyportfolioopt.readthedocs.io/en/latest/MeanVariance.html#l2-regularisation\n",
    "ef_optimize.add_objective(objective_functions.L2_reg, gamma=1.5)\n",
    "\n",
    "\n",
    "### adding transaction costs objective function - https://github.com/robertmartin8/PyPortfolioOpt/blob/master/cookbook/3-Advanced-Mean-Variance-Optimisation.ipynb\n",
    "# Pretend that you started with a default-weight allocation\n",
    "#initial_weights = np.array([1/len(tickers_list)] * len(tickers_list))\n",
    "#ef_optimize.add_objective(objective_functions.transaction_cost, w_prev=initial_weights, k=0.001)\n",
    "\n",
    "#For Min Volatility\n",
    "ef_optimize.min_volatility()\n",
    "\n",
    "#For Max Sharpe - \n",
    "#max_sharpe transforms the optimization problem so additional objectives eg. transaction costs, gamma may not work as expected.\n",
    "\n",
    "#ef_optimize.max_sharpe()\n",
    "\n",
    "# Markowitz with Target Volatility\n",
    "\n",
    "#target_volatility = 0.50\n",
    "#ef_optimize.efficient_risk(target_volatility)\n",
    "\n",
    "# Find the tangency portfolio\n",
    "\n",
    "ret_tangent, std_tangent, _ = ef_optimize.portfolio_performance()\n",
    "ax.scatter(std_tangent, ret_tangent, marker=\"*\", s=100, c=\"r\", label=\"Max Sharpe\")\n",
    "\n",
    "# Generate random portfolios\n",
    "n_samples = 100\n",
    "w = np.random.dirichlet(np.ones(ef.n_assets), n_samples)\n",
    "# Normalize weights to sum up to 1 - to make sure they lie within efficient frontier\n",
    "w = w / np.sum(w, axis=1, keepdims=True)  \n",
    "rets = w.dot(ef.expected_returns)\n",
    "stds = np.sqrt(np.diag(w @ ef.cov_matrix @ w.T))\n",
    "sharpes = rets / stds\n",
    "ax.scatter(stds, rets, marker=\".\", c=sharpes, cmap=\"viridis_r\")\n",
    "\n",
    "# Output\n",
    "#ax.set_title(\"Efficient Frontier with random portfolios\")\n",
    "#ax.legend()\n",
    "ax.get_legend().remove()\n",
    "plt.tight_layout()\n",
    "#Saves the output file as a transparent image\n",
    "plt.savefig(\"ef_scatter.png\", dpi=200, transparent=True)\n",
    "plt.show()"
   ]
  },
  {
   "cell_type": "code",
   "execution_count": 9,
   "id": "c7fbf7fc",
   "metadata": {},
   "outputs": [
    {
     "name": "stdout",
     "output_type": "stream",
     "text": [
      "OrderedDict([('A', 0.08031), ('AAPL', 0.06763), ('ACGL', 0.03398), ('ALB', 0.04677), ('ALK', 0.02097), ('ATO', 0.08083), ('AXON', 0.05295), ('BK', 0.05893), ('C', 0.01538), ('CINF', 0.04502), ('COP', 0.02604), ('DHI', 0.05109), ('GNRC', 0.05482), ('KLAC', 0.03442), ('MCO', 0.04839), ('MMC', 0.08106), ('NCLH', 0.0), ('PNC', 0.03345), ('PPG', 0.06736), ('TYL', 0.1006)])\n"
     ]
    }
   ],
   "source": [
    "# Print Weights - Max Sharpe\n",
    "cleaned_weights = ef_optimize.clean_weights()\n",
    "print(cleaned_weights)"
   ]
  },
  {
   "cell_type": "markdown",
   "id": "ebcce527",
   "metadata": {},
   "source": [
    "# Backtesting - In Sample"
   ]
  },
  {
   "cell_type": "code",
   "execution_count": 10,
   "id": "2701608c",
   "metadata": {
    "scrolled": true
   },
   "outputs": [
    {
     "name": "stdout",
     "output_type": "stream",
     "text": [
      "Expected annual return: 27.9%\n",
      "Annual volatility: 37.8%\n",
      "Sharpe Ratio: 0.69\n"
     ]
    },
    {
     "data": {
      "text/plain": [
       "(0.2793275708666972, 0.3777801002687257, 0.6864511145034641)"
      ]
     },
     "execution_count": 10,
     "metadata": {},
     "output_type": "execute_result"
    }
   ],
   "source": [
    "#to know the expected performance of the portfolio with optimal weights w\n",
    "ef_optimize.portfolio_performance(verbose=True)"
   ]
  },
  {
   "cell_type": "markdown",
   "id": "e75658ed",
   "metadata": {},
   "source": [
    "## Comparison with Benchmark Chart"
   ]
  },
  {
   "cell_type": "markdown",
   "id": "66b724c5",
   "metadata": {},
   "source": [
    "### In sample graph comparison with Benchmark"
   ]
  },
  {
   "cell_type": "code",
   "execution_count": 11,
   "id": "3afc8c7c",
   "metadata": {},
   "outputs": [],
   "source": [
    "# Create an empty Series to store portfolio returns\n",
    "portfolio_returns_1 = pd.Series()\n",
    "portfolio_returns_1.index.name = 'Date'\n",
    "\n",
    "# Extract unique years\n",
    "unique_years = historical_prices.index.year.unique()"
   ]
  },
  {
   "cell_type": "code",
   "execution_count": 12,
   "id": "42b70786",
   "metadata": {},
   "outputs": [],
   "source": [
    "# Iterate through each year\n",
    "for year in unique_years:\n",
    "    \n",
    "    # Filter the DataFrame for the current year\n",
    "    current_year_prices = historical_prices[historical_prices.index.year == year]\n",
    "    # to get the last day of the previous year prices\n",
    "    previous_year_prices = historical_prices[historical_prices.index.year == year-1]\n",
    "    # Concatenate the last day of the previous year with the current year's data\n",
    "    # (to avoid NaN value for the first day of the year)\n",
    "    current_year_prices = pd.concat([previous_year_prices.tail(1), current_year_prices])\n",
    "    \n",
    "    # Perform operations on the current_year_prices\n",
    "    current_year_portfolio_returns = (current_year_prices.pct_change().dropna() * cleaned_weights).sum(axis=1)\n",
    "    \n",
    "    # Append current returns to the all_returns Series\n",
    "    portfolio_returns_1 = pd.concat([portfolio_returns_1, current_year_portfolio_returns])"
   ]
  },
  {
   "cell_type": "code",
   "execution_count": 13,
   "id": "602691ab",
   "metadata": {},
   "outputs": [
    {
     "data": {
      "image/png": "[encoded data removed]",
      "text/plain": [
       "<Figure size 1000x600 with 1 Axes>"
      ]
     },
     "metadata": {
      "needs_background": "light"
     },
     "output_type": "display_data"
    }
   ],
   "source": [
    "# Calculate portfolio and benchmark returns\n",
    "portfolio_returns = portfolio_returns_1\n",
    "benchmark_returns = spy_data.pct_change().dropna()\n",
    "\n",
    "# Calculate portfolio and benchmark values\n",
    "#portfolio_values = (1 + portfolio_returns).cumprod() * 10000\n",
    "#benchmark_values = (1 + benchmark_returns).cumprod() * 10000\n",
    "\n",
    "# Plot the returns\n",
    "plt.figure(figsize=(10, 6), facecolor='none')\n",
    "plt.plot(portfolio_returns.cumsum(), label='Portfolio Returns')\n",
    "plt.plot(benchmark_returns.cumsum(), label='SPY Returns')\n",
    "plt.legend()\n",
    "#plt.xlabel('Date')\n",
    "plt.ylabel('Cumulative Returns')\n",
    "#plt.title('Portfolio Returns vs SPY Returns')\n",
    "# Remove background grid lines\n",
    "plt.grid(visible=False)\n",
    "plt.savefig('portfolio_vs_spy.png', transparent=True)"
   ]
  },
  {
   "cell_type": "markdown",
   "id": "7609af84",
   "metadata": {},
   "source": [
    "# Backtesting - Out of Sample"
   ]
  },
  {
   "cell_type": "code",
   "execution_count": 14,
   "id": "62c7e2cb",
   "metadata": {
    "scrolled": true
   },
   "outputs": [
    {
     "name": "stdout",
     "output_type": "stream",
     "text": [
      "Training Data start_date 2020-01-01\n",
      "Training Data end_date 2020-12-31\n",
      "Testing Data start_date 2021-01-01\n",
      "Testing Data end_date 2021-12-31\n"
     ]
    }
   ],
   "source": [
    "#### Data Universe\n",
    "\n",
    "print(\"Training Data start_date\", start_date)\n",
    "\n",
    "print(\"Training Data end_date\", end_date)\n",
    "\n",
    "next_day = end_date + timedelta(days=1)\n",
    "\n",
    "# We invest on the next day using cleaned_weights\n",
    "\n",
    "print(\"Testing Data start_date\", next_day)\n",
    "\n",
    "# Now we keep the target weights same for 1 year\n",
    "\n",
    "next_year = end_date + relativedelta(years=1)\n",
    "\n",
    "print(\"Testing Data end_date\", next_year)"
   ]
  },
  {
   "cell_type": "code",
   "execution_count": 15,
   "id": "ac1100ab",
   "metadata": {
    "scrolled": true
   },
   "outputs": [
    {
     "name": "stdout",
     "output_type": "stream",
     "text": [
      "[*********************100%***********************]  20 of 20 completed\n"
     ]
    }
   ],
   "source": [
    "test_data = yf.download(tickers_list, start=next_day, end=next_year)['Adj Close']"
   ]
  },
  {
   "cell_type": "code",
   "execution_count": 16,
   "id": "9fb9df41",
   "metadata": {},
   "outputs": [
    {
     "name": "stdout",
     "output_type": "stream",
     "text": [
      "Index([2021], dtype='int32', name='Date') Index([1, 2, 3, 4, 5, 6, 7, 8, 9, 10, 11, 12], dtype='int32', name='Date')\n"
     ]
    }
   ],
   "source": [
    "testing_years = test_data.index.year.unique()\n",
    "testing_months = test_data.index.month.unique()\n",
    "\n",
    "print(testing_years, testing_months)"
   ]
  },
  {
   "cell_type": "markdown",
   "id": "2e557284",
   "metadata": {},
   "source": [
    "## Comparison with Benchmark Chart - Test Data "
   ]
  },
  {
   "cell_type": "code",
   "execution_count": 17,
   "id": "f522a32c",
   "metadata": {},
   "outputs": [],
   "source": [
    "# Create an empty Series to store portfolio returns\n",
    "portfolio_test_returns = pd.Series()\n",
    "portfolio_test_returns.index.name = 'Date'\n",
    "\n",
    "# Extract unique years\n",
    "unique_years = test_data.index.year.unique()\n",
    "\n",
    "# Iterate through each year\n",
    "for year in unique_years:\n",
    "    \n",
    "    # Filter the DataFrame for the current year\n",
    "    current_year_prices = test_data[test_data.index.year == year]\n",
    "    # to get the last day of the previous year prices\n",
    "    previous_year_prices = test_data[test_data.index.year == year-1]\n",
    "    # Concatenate the last day of the previous year with the current year's data\n",
    "    # (to avoid NaN value for the first day of the year)\n",
    "    current_year_prices = pd.concat([previous_year_prices.tail(1), current_year_prices])\n",
    "    \n",
    "    # Perform operations on the current_year_prices\n",
    "    current_year_portfolio_returns = (current_year_prices.pct_change().dropna() * cleaned_weights).sum(axis=1)\n",
    "    \n",
    "    # Append current returns to the all_returns Series\n",
    "    portfolio_test_returns = pd.concat([portfolio_test_returns, current_year_portfolio_returns])"
   ]
  },
  {
   "cell_type": "code",
   "execution_count": 18,
   "id": "1dd1e060",
   "metadata": {
    "scrolled": true
   },
   "outputs": [
    {
     "name": "stdout",
     "output_type": "stream",
     "text": [
      "[*********************100%***********************]  1 of 1 completed\n"
     ]
    }
   ],
   "source": [
    "#comparison with benchmark\n",
    "spy_test_data = yf.download('SPY', start=next_day, end=next_year)['Adj Close']"
   ]
  },
  {
   "cell_type": "code",
   "execution_count": 19,
   "id": "9916260c",
   "metadata": {},
   "outputs": [
    {
     "data": {
      "image/png": "[encoded data removed]",
      "text/plain": [
       "<Figure size 1000x600 with 1 Axes>"
      ]
     },
     "metadata": {
      "needs_background": "light"
     },
     "output_type": "display_data"
    }
   ],
   "source": [
    "# Calculate portfolio and benchmark returns\n",
    "portfolio_returns = portfolio_test_returns\n",
    "benchmark_returns = spy_test_data.pct_change().dropna()\n",
    "\n",
    "# Plot the returns\n",
    "plt.figure(figsize=(10, 6), facecolor='none')\n",
    "plt.plot(portfolio_returns.cumsum(), label='Portfolio Returns')\n",
    "plt.plot(benchmark_returns.cumsum(), label='SPY Returns')\n",
    "plt.legend()\n",
    "#plt.xlabel('Date')\n",
    "plt.ylabel('Cumulative Returns')\n",
    "#plt.title('Portfolio Returns vs SPY Returns')\n",
    "# Remove background grid lines\n",
    "plt.grid(visible=False)\n",
    "plt.savefig('portfolio_vs_spy.png', transparent=True)"
   ]
  },
  {
   "cell_type": "markdown",
   "id": "b9edbf27",
   "metadata": {},
   "source": [
    "## Simulation Study"
   ]
  },
  {
   "cell_type": "markdown",
   "id": "cb4bf7a3",
   "metadata": {},
   "source": [
    "### 1. Markowitz with Monthly Rebalancing keeping Original Weights Only"
   ]
  },
  {
   "cell_type": "code",
   "execution_count": 20,
   "id": "471f5108",
   "metadata": {
    "scrolled": true
   },
   "outputs": [
    {
     "name": "stdout",
     "output_type": "stream",
     "text": [
      "Funds remaining: 318.71\n",
      "A: allocated 0.084, desired 0.080\n",
      "AAPL: allocated 0.066, desired 0.068\n",
      "ACGL: allocated 0.036, desired 0.034\n",
      "ALB: allocated 0.046, desired 0.047\n",
      "ALK: allocated 0.020, desired 0.021\n",
      "ATO: allocated 0.082, desired 0.081\n",
      "AXON: allocated 0.060, desired 0.053\n",
      "BK: allocated 0.060, desired 0.059\n",
      "C: allocated 0.017, desired 0.015\n",
      "CINF: allocated 0.049, desired 0.045\n",
      "COP: allocated 0.026, desired 0.026\n",
      "DHI: allocated 0.054, desired 0.051\n",
      "GNRC: allocated 0.046, desired 0.055\n",
      "KLAC: allocated 0.026, desired 0.034\n",
      "MCO: allocated 0.059, desired 0.048\n",
      "MMC: allocated 0.079, desired 0.081\n",
      "NCLH: allocated 0.000, desired 0.000\n",
      "PNC: allocated 0.028, desired 0.033\n",
      "PPG: allocated 0.070, desired 0.067\n",
      "TYL: allocated 0.089, desired 0.101\n",
      "Allocation has RMSE: 0.005\n"
     ]
    },
    {
     "name": "stderr",
     "output_type": "stream",
     "text": [
      "/home/bhavya/anaconda3/lib/python3.10/site-packages/cvxpy/problems/problem.py:1385: UserWarning: Solution may be inaccurate. Try another solver, adjusting the solver settings, or solve with verbose=True for more information.\n",
      "  warnings.warn(\n"
     ]
    }
   ],
   "source": [
    "# Calculate the discrete allocation of assets based on the optimal weights\n",
    "latest_prices = test_data.iloc[0]  # Latest prices for the assets - as on 1 Jan 2021\n",
    "da = DiscreteAllocation(cleaned_weights, latest_prices, total_portfolio_value=10000)\n",
    "old_allocation, leftover = da.lp_portfolio(verbose=True)"
   ]
  },
  {
   "cell_type": "markdown",
   "id": "a5d38008",
   "metadata": {},
   "source": [
    "Optimal Allocation: {'AAPL': 16, 'AMD': 22, 'BABA': 3, 'GOOG': 23, 'RRC': 177, 'WMT': 14}"
   ]
  },
  {
   "cell_type": "code",
   "execution_count": 21,
   "id": "6a5a202f",
   "metadata": {
    "scrolled": false
   },
   "outputs": [
    {
     "name": "stdout",
     "output_type": "stream",
     "text": [
      "Optimal Allocation: {'A': 7, 'AAPL': 5, 'ACGL': 10, 'ALB': 3, 'ALK': 4, 'ATO': 9, 'AXON': 5, 'BK': 15, 'C': 3, 'CINF': 6, 'COP': 7, 'DHI': 8, 'GNRC': 2, 'KLAC': 1, 'MCO': 2, 'MMC': 7, 'PNC': 2, 'PPG': 5, 'TYL': 2}\n",
      "Leftover: 318.713835776216\n",
      "Actual Amount Allocated: 9681.286164223784\n"
     ]
    }
   ],
   "source": [
    "print(\"Optimal Allocation:\", old_allocation)\n",
    "print(\"Leftover:\", leftover)\n",
    "print (\"Actual Amount Allocated:\", 10000-leftover)"
   ]
  },
  {
   "cell_type": "markdown",
   "id": "f1ba3cfa",
   "metadata": {},
   "source": [
    "### Now we calculate the portfolio value after one month and effective weights after one month - which is ratio of current assets vs Portfolio Value"
   ]
  },
  {
   "cell_type": "code",
   "execution_count": 22,
   "id": "68cd2c3d",
   "metadata": {
    "scrolled": true
   },
   "outputs": [],
   "source": [
    "#find first trading day of the next month\n",
    "\n",
    "current_month_prices = test_data[(test_data.index.year == 2021) & (test_data.index.month == 12)]\n",
    "\n",
    "current_month_prices = current_month_prices.sort_index()\n",
    "\n",
    "#pandas series with stocks name as index, prices are values and date as index name\n",
    "first_trading_day_prices = current_month_prices.iloc[-1]"
   ]
  },
  {
   "cell_type": "code",
   "execution_count": 23,
   "id": "05945c38",
   "metadata": {},
   "outputs": [],
   "source": [
    "#print(first_trading_day_prices)"
   ]
  },
  {
   "cell_type": "code",
   "execution_count": 24,
   "id": "ad3f0a2e",
   "metadata": {},
   "outputs": [
    {
     "name": "stdout",
     "output_type": "stream",
     "text": [
      "{'A': 7, 'AAPL': 5, 'ACGL': 10, 'ALB': 3, 'ALK': 4, 'ATO': 9, 'AXON': 5, 'BK': 15, 'C': 3, 'CINF': 6, 'COP': 7, 'DHI': 8, 'GNRC': 2, 'KLAC': 1, 'MCO': 2, 'MMC': 7, 'PNC': 2, 'PPG': 5, 'TYL': 2}\n"
     ]
    }
   ],
   "source": [
    "print(old_allocation)"
   ]
  },
  {
   "cell_type": "code",
   "execution_count": 25,
   "id": "139599be",
   "metadata": {
    "scrolled": true
   },
   "outputs": [
    {
     "name": "stdout",
     "output_type": "stream",
     "text": [
      "A       1113.383881\n",
      "AAPL     883.286362\n",
      "ACGL     443.300018\n",
      "ALB      695.956421\n",
      "ALK      207.759995\n",
      "ATO      905.948204\n",
      "AXON     780.350037\n",
      "BK       829.048004\n",
      "C        170.710270\n",
      "CINF     655.843597\n",
      "COP      470.091881\n",
      "DHI      845.921631\n",
      "GNRC     705.919983\n",
      "KLAC     418.814484\n",
      "MCO      770.949585\n",
      "MMC     1189.228180\n",
      "NCLH            NaN\n",
      "PNC      380.755859\n",
      "PPG      831.913528\n",
      "TYL     1076.239990\n",
      "dtype: float64\n"
     ]
    }
   ],
   "source": [
    "# Current Value of Each stock in allocated portfolio\n",
    "result = first_trading_day_prices * pd.Series(old_allocation)\n",
    "\n",
    "print(result)"
   ]
  },
  {
   "cell_type": "code",
   "execution_count": 26,
   "id": "9d0ce588",
   "metadata": {},
   "outputs": [],
   "source": [
    "new_portfolio_value = result.sum()"
   ]
  },
  {
   "cell_type": "code",
   "execution_count": 27,
   "id": "9543254a",
   "metadata": {},
   "outputs": [
    {
     "data": {
      "text/plain": [
       "13375.421909332275"
      ]
     },
     "execution_count": 27,
     "metadata": {},
     "output_type": "execute_result"
    }
   ],
   "source": [
    "new_portfolio_value"
   ]
  },
  {
   "cell_type": "code",
   "execution_count": 28,
   "id": "c70a7812",
   "metadata": {
    "scrolled": false
   },
   "outputs": [
    {
     "name": "stdout",
     "output_type": "stream",
     "text": [
      "Date\n",
      "2020-01-02    307.375610\n",
      "2020-01-03    305.048187\n",
      "2020-01-06    306.211853\n",
      "2020-01-07    305.350922\n",
      "2020-01-08    306.978241\n",
      "                 ...    \n",
      "2020-12-23    354.270966\n",
      "2020-12-24    355.649139\n",
      "2020-12-28    358.704437\n",
      "2020-12-29    358.020172\n",
      "2020-12-30    358.530975\n",
      "Name: Adj Close, Length: 252, dtype: float64\n"
     ]
    },
    {
     "data": {
      "text/plain": [
       "28.13358953655538"
      ]
     },
     "execution_count": 28,
     "metadata": {},
     "output_type": "execute_result"
    }
   ],
   "source": [
    "print(spy_data)\n",
    "\n",
    "10000/355.447"
   ]
  },
  {
   "cell_type": "code",
   "execution_count": 29,
   "id": "43c4dfaa",
   "metadata": {},
   "outputs": [],
   "source": [
    "current_effective_weights = result/new_portfolio_value"
   ]
  },
  {
   "cell_type": "code",
   "execution_count": 30,
   "id": "6cde5b4e",
   "metadata": {},
   "outputs": [
    {
     "name": "stdout",
     "output_type": "stream",
     "text": [
      "A       0.083241\n",
      "AAPL    0.066038\n",
      "ACGL    0.033143\n",
      "ALB     0.052032\n",
      "ALK     0.015533\n",
      "ATO     0.067732\n",
      "AXON    0.058342\n",
      "BK      0.061983\n",
      "C       0.012763\n",
      "CINF    0.049033\n",
      "COP     0.035146\n",
      "DHI     0.063244\n",
      "GNRC    0.052777\n",
      "KLAC    0.031312\n",
      "MCO     0.057639\n",
      "MMC     0.088911\n",
      "NCLH         NaN\n",
      "PNC     0.028467\n",
      "PPG     0.062197\n",
      "TYL     0.080464\n",
      "dtype: float64\n"
     ]
    }
   ],
   "source": [
    "print(current_effective_weights)"
   ]
  },
  {
   "cell_type": "code",
   "execution_count": 31,
   "id": "5a28f84f",
   "metadata": {
    "scrolled": true
   },
   "outputs": [
    {
     "name": "stdout",
     "output_type": "stream",
     "text": [
      "OrderedDict([('A', 0.08031), ('AAPL', 0.06763), ('ACGL', 0.03398), ('ALB', 0.04677), ('ALK', 0.02097), ('ATO', 0.08083), ('AXON', 0.05295), ('BK', 0.05893), ('C', 0.01538), ('CINF', 0.04502), ('COP', 0.02604), ('DHI', 0.05109), ('GNRC', 0.05482), ('KLAC', 0.03442), ('MCO', 0.04839), ('MMC', 0.08106), ('NCLH', 0.0), ('PNC', 0.03345), ('PPG', 0.06736), ('TYL', 0.1006)])\n"
     ]
    }
   ],
   "source": [
    "print(cleaned_weights)"
   ]
  },
  {
   "cell_type": "code",
   "execution_count": 32,
   "id": "8fce3776",
   "metadata": {
    "scrolled": true
   },
   "outputs": [
    {
     "name": "stdout",
     "output_type": "stream",
     "text": [
      "{'A': 7, 'AAPL': 5, 'ACGL': 10, 'ALB': 3, 'ALK': 4, 'ATO': 9, 'AXON': 5, 'BK': 15, 'C': 3, 'CINF': 6, 'COP': 7, 'DHI': 8, 'GNRC': 2, 'KLAC': 1, 'MCO': 2, 'MMC': 7, 'PNC': 2, 'PPG': 5, 'TYL': 2}\n"
     ]
    }
   ],
   "source": [
    "ordered_dict = cleaned_weights\n",
    "x1 = old_allocation\n",
    "\n",
    "print(x1)"
   ]
  },
  {
   "cell_type": "markdown",
   "id": "ec1c849b",
   "metadata": {},
   "source": [
    "### working optimization problem - to allocate atleast the same amount of stocks allocated in the previous allocation (to only buy stocks and not sell)"
   ]
  },
  {
   "cell_type": "code",
   "execution_count": 33,
   "id": "39b5b80a",
   "metadata": {
    "scrolled": true
   },
   "outputs": [],
   "source": [
    "min_value_constraints = {}\n",
    "for key, value in x1.items():\n",
    "    for index, (ordered_key, ordered_value) in enumerate(ordered_dict.items(), start=1):\n",
    "        if key == ordered_key:\n",
    "            new_key = int(index-1)\n",
    "            min_value_constraints[new_key] = value\n",
    "            break"
   ]
  },
  {
   "cell_type": "code",
   "execution_count": 34,
   "id": "8d578c13",
   "metadata": {
    "scrolled": true
   },
   "outputs": [
    {
     "data": {
      "text/plain": [
       "{0: 7,\n",
       " 1: 5,\n",
       " 2: 10,\n",
       " 3: 3,\n",
       " 4: 4,\n",
       " 5: 9,\n",
       " 6: 5,\n",
       " 7: 15,\n",
       " 8: 3,\n",
       " 9: 6,\n",
       " 10: 7,\n",
       " 11: 8,\n",
       " 12: 2,\n",
       " 13: 1,\n",
       " 14: 2,\n",
       " 15: 7,\n",
       " 17: 2,\n",
       " 18: 5,\n",
       " 19: 2}"
      ]
     },
     "execution_count": 34,
     "metadata": {},
     "output_type": "execute_result"
    }
   ],
   "source": [
    "min_value_constraints"
   ]
  },
  {
   "cell_type": "code",
   "execution_count": 35,
   "id": "1f948588",
   "metadata": {
    "scrolled": true
   },
   "outputs": [
    {
     "name": "stdout",
     "output_type": "stream",
     "text": [
      "Set parameter Username\n",
      "Academic license - for non-commercial use only - expires 2024-06-22\n",
      "Funds remaining: 22.00\n",
      "A: allocated 0.085, desired 0.080\n",
      "AAPL: allocated 0.071, desired 0.068\n",
      "ACGL: allocated 0.033, desired 0.034\n",
      "ALB: allocated 0.046, desired 0.047\n",
      "ALK: allocated 0.021, desired 0.021\n",
      "ATO: allocated 0.081, desired 0.081\n",
      "AXON: allocated 0.052, desired 0.053\n",
      "BK: allocated 0.059, desired 0.059\n",
      "C: allocated 0.015, desired 0.015\n",
      "CINF: allocated 0.044, desired 0.045\n",
      "COP: allocated 0.031, desired 0.026\n",
      "DHI: allocated 0.056, desired 0.051\n",
      "GNRC: allocated 0.047, desired 0.055\n",
      "KLAC: allocated 0.028, desired 0.034\n",
      "MCO: allocated 0.051, desired 0.048\n",
      "MMC: allocated 0.079, desired 0.081\n",
      "NCLH: allocated 0.000, desired 0.000\n",
      "PNC: allocated 0.025, desired 0.033\n",
      "PPG: allocated 0.067, desired 0.067\n",
      "TYL: allocated 0.108, desired 0.101\n",
      "Allocation has RMSE: 0.004\n",
      "Allocation: {'A': 8, 'AAPL': 6, 'ACGL': 11, 'ALB': 3, 'ALK': 6, 'ATO': 12, 'AXON': 5, 'BK': 16, 'C': 4, 'CINF': 6, 'COP': 7, 'DHI': 8, 'GNRC': 2, 'KLAC': 1, 'MCO': 2, 'MMC': 7, 'PNC': 2, 'PPG': 6, 'TYL': 3}\n",
      "Leftover: 21.99725341796875\n"
     ]
    }
   ],
   "source": [
    "total_portfolio_value = 15000\n",
    "\n",
    "#### Instantiate the CustomDiscreteAllocation class\n",
    "da = CustomDiscreteAllocation(cleaned_weights, first_trading_day_prices, total_portfolio_value, min_value_constraints=min_value_constraints)\n",
    "\n",
    "#### Call the lp_portfolio method with the additional constraint\n",
    "new_allocation, leftover = da.lp_portfolio(reinvest=True, verbose=True)\n",
    "\n",
    "#### Print the allocation and leftover value\n",
    "print(\"Allocation:\", new_allocation)\n",
    "print(\"Leftover:\", leftover)"
   ]
  },
  {
   "cell_type": "markdown",
   "id": "2c19a4dd",
   "metadata": {},
   "source": [
    "### 2. Markowitz with Monthly Rebalancing - With Original Weights Revising every 12 months (Rolling Window)\n",
    "\n",
    "TODO"
   ]
  },
  {
   "cell_type": "markdown",
   "id": "6888bb22",
   "metadata": {},
   "source": [
    "# Beyond Markowitz - Hierarchical Risk Parity\n",
    "HRP is a modern portfolio optimization method inspired by machine learning.\n",
    "\n",
    "The idea is that by examining the hierarchical structure of the market, we can better diversify."
   ]
  },
  {
   "cell_type": "code",
   "execution_count": 36,
   "id": "9886fe5c",
   "metadata": {},
   "outputs": [],
   "source": [
    "rets = expected_returns.returns_from_prices(historical_prices)"
   ]
  },
  {
   "cell_type": "code",
   "execution_count": 37,
   "id": "ad53a0bb",
   "metadata": {
    "scrolled": false
   },
   "outputs": [
    {
     "data": {
      "text/plain": [
       "OrderedDict([('A', 0.06431),\n",
       "             ('AAPL', 0.0707),\n",
       "             ('ACGL', 0.03829),\n",
       "             ('ALB', 0.0529),\n",
       "             ('ALK', 0.02546),\n",
       "             ('ATO', 0.08907),\n",
       "             ('AXON', 0.04568),\n",
       "             ('BK', 0.0463),\n",
       "             ('C', 0.01279),\n",
       "             ('CINF', 0.03182),\n",
       "             ('COP', 0.02121),\n",
       "             ('DHI', 0.03106),\n",
       "             ('GNRC', 0.03946),\n",
       "             ('KLAC', 0.04058),\n",
       "             ('MCO', 0.03401),\n",
       "             ('MMC', 0.12227),\n",
       "             ('NCLH', 0.0098),\n",
       "             ('PNC', 0.01748),\n",
       "             ('PPG', 0.06632),\n",
       "             ('TYL', 0.14051)])"
      ]
     },
     "execution_count": 37,
     "metadata": {},
     "output_type": "execute_result"
    }
   ],
   "source": [
    "hrp = HRPOpt(rets)\n",
    "hrp.optimize()\n",
    "weights = hrp.clean_weights()\n",
    "weights"
   ]
  },
  {
   "cell_type": "code",
   "execution_count": 38,
   "id": "b6f9fb87",
   "metadata": {
    "scrolled": true
   },
   "outputs": [
    {
     "data": {
      "image/png": "[encoded data removed]",
      "text/plain": [
       "<Figure size 1000x1000 with 1 Axes>"
      ]
     },
     "metadata": {},
     "output_type": "display_data"
    }
   ],
   "source": [
    "pd.Series(weights).plot.pie(figsize=(10, 10));"
   ]
  },
  {
   "cell_type": "code",
   "execution_count": 39,
   "id": "05cdeb3f",
   "metadata": {
    "scrolled": true
   },
   "outputs": [
    {
     "name": "stdout",
     "output_type": "stream",
     "text": [
      "Expected annual return: 31.5%\n",
      "Annual volatility: 36.9%\n",
      "Sharpe Ratio: 0.80\n"
     ]
    }
   ],
   "source": [
    "hrp.portfolio_performance(verbose=True);"
   ]
  },
  {
   "cell_type": "markdown",
   "id": "9407a7dc",
   "metadata": {},
   "source": [
    "### Plotting\n",
    "\n",
    "Plotting a dendrogram (tree diagram) based on the hierarchical structure of asset returns"
   ]
  },
  {
   "cell_type": "code",
   "execution_count": 40,
   "id": "fe858a1f",
   "metadata": {
    "scrolled": true
   },
   "outputs": [
    {
     "data": {
      "image/png": "[encoded data removed]",
      "text/plain": [
       "<Figure size 640x480 with 1 Axes>"
      ]
     },
     "metadata": {},
     "output_type": "display_data"
    }
   ],
   "source": [
    "plotting.plot_dendrogram(hrp); "
   ]
  }
 ],
 "metadata": {
  "kernelspec": {
   "display_name": "Python 3 (ipykernel)",
   "language": "python",
   "name": "python3"
  },
  "language_info": {
   "codemirror_mode": {
    "name": "ipython",
    "version": 3
   },
   "file_extension": ".py",
   "mimetype": "text/x-python",
   "name": "python",
   "nbconvert_exporter": "python",
   "pygments_lexer": "ipython3",
   "version": "3.10.9"
  }
 },
 "nbformat": 4,
 "nbformat_minor": 5
}
