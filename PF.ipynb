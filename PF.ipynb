{
 "cells": [
  {
   "cell_type": "code",
   "execution_count": 43,
   "id": "d575319d",
   "metadata": {},
   "outputs": [
    {
     "name": "stdout",
     "output_type": "stream",
     "text": [
      "[*********************100%***********************]  17 of 17 completed\n"
     ]
    }
   ],
   "source": [
    "# Define the ticker list\n",
    "import pandas as pd\n",
    "tickers_list = ['AAPL', 'WMT', 'MU', 'BA','GOOG','BABA','GE','AMD','BAC','GM','T','UAA','XOM','RRC','PFE','JPM','SBUX']\n",
    "\n",
    "# Fetch the data\n",
    "import yfinance as yf\n",
    "data = yf.download(tickers_list,'2015-1-1')['Adj Close']\n",
    "#print(data.iloc[-1])\n",
    "# Print first 5 rows of the data\n",
    "#print(data.head())\n",
    "#print(data.tail())"
   ]
  },
  {
   "cell_type": "code",
   "execution_count": 52,
   "id": "c7fbf7fc",
   "metadata": {},
   "outputs": [
    {
     "name": "stdout",
     "output_type": "stream",
     "text": [
      "OrderedDict([('AAPL', 0.551), ('AMD', 0.34741), ('BA', 0.0), ('BABA', 0.0), ('BAC', 0.0), ('GE', 0.0), ('GM', 0.0), ('GOOG', 0.0708), ('JPM', 0.0), ('MU', 0.0), ('PFE', 0.0), ('RRC', 0.0), ('SBUX', 0.0), ('T', 0.0), ('UAA', 0.0), ('WMT', 0.03079), ('XOM', 0.0)])\n"
     ]
    }
   ],
   "source": [
    "import pandas as pd\n",
    "from pypfopt.expected_returns import mean_historical_return\n",
    "from pypfopt.efficient_frontier import EfficientFrontier\n",
    "from pypfopt import risk_models\n",
    "from pypfopt import discrete_allocation\n",
    "from pypfopt import expected_returns\n",
    "from pypfopt import risk_models\n",
    "from pypfopt import EfficientFrontier\n",
    "from pypfopt import objective_functions\n",
    "from pypfopt import base_optimizer\n",
    "from pypfopt.discrete_allocation import DiscreteAllocation\n",
    "from pypfopt.hierarchical_portfolio import HRPOpt\n",
    "\n",
    "# Prepare historical price data for assets\n",
    "#historical_prices = pd.read_csv('historical_prices.csv', index_col=0, parse_dates=True)\n",
    "historical_prices = data\n",
    "\n",
    "# Calculate expected returns\n",
    "returns = expected_returns.mean_historical_return(historical_prices)\n",
    "cov_matrix = risk_models.sample_cov(historical_prices)\n",
    "\n",
    "# Create an instance of EfficientFrontier\n",
    "ef = EfficientFrontier(returns, cov_matrix)\n",
    "\n",
    "# Optimize for maximum Sharpe ratio\n",
    "weights = ef.max_sharpe()\n",
    "\n",
    "#  print weights\n",
    "cleaned_weights = ef.clean_weights()\n",
    "print(cleaned_weights)"
   ]
  },
  {
   "cell_type": "code",
   "execution_count": 53,
   "id": "2701608c",
   "metadata": {},
   "outputs": [
    {
     "name": "stdout",
     "output_type": "stream",
     "text": [
      "Expected annual return: 36.3%\n",
      "Annual volatility: 33.2%\n",
      "Sharpe Ratio: 1.03\n"
     ]
    },
    {
     "data": {
      "text/plain": [
       "(0.36295625050560887, 0.3315482164388288, 1.0344083710939969)"
      ]
     },
     "execution_count": 53,
     "metadata": {},
     "output_type": "execute_result"
    }
   ],
   "source": [
    "#to know the expected performance of the portfolio with optimal weights w\n",
    "ef.portfolio_performance(verbose=True)"
   ]
  },
  {
   "cell_type": "code",
   "execution_count": 54,
   "id": "471f5108",
   "metadata": {},
   "outputs": [],
   "source": [
    "# Calculate the discrete allocation of assets based on the optimal weights\n",
    "latest_prices = historical_prices.iloc[-1]  # Latest prices for the assets\n",
    "da = DiscreteAllocation(weights, latest_prices, total_portfolio_value=20000)\n",
    "allocation, leftover = da.lp_portfolio()"
   ]
  },
  {
   "cell_type": "code",
   "execution_count": 55,
   "id": "6a5a202f",
   "metadata": {},
   "outputs": [
    {
     "name": "stdout",
     "output_type": "stream",
     "text": [
      "Optimal Allocation: {'AAPL': 61, 'AMD': 59, 'GOOG': 11, 'WMT': 4}\n"
     ]
    }
   ],
   "source": [
    "print(\"Optimal Allocation:\", allocation)"
   ]
  },
  {
   "cell_type": "code",
   "execution_count": null,
   "id": "6e7d9323",
   "metadata": {},
   "outputs": [],
   "source": []
  },
  {
   "cell_type": "code",
   "execution_count": null,
   "id": "f134b6a2",
   "metadata": {},
   "outputs": [],
   "source": []
  }
 ],
 "metadata": {
  "kernelspec": {
   "display_name": "Python 3 (ipykernel)",
   "language": "python",
   "name": "python3"
  },
  "language_info": {
   "codemirror_mode": {
    "name": "ipython",
    "version": 3
   },
   "file_extension": ".py",
   "mimetype": "text/x-python",
   "name": "python",
   "nbconvert_exporter": "python",
   "pygments_lexer": "ipython3",
   "version": "3.9.13"
  }
 },
 "nbformat": 4,
 "nbformat_minor": 5
}
